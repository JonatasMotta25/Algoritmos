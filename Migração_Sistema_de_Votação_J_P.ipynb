{
  "nbformat": 4,
  "nbformat_minor": 0,
  "metadata": {
    "colab": {
      "provenance": [],
      "authorship_tag": "ABX9TyMLLrBSXn5NDVLvOdC2050L",
      "include_colab_link": true
    },
    "kernelspec": {
      "name": "python3",
      "display_name": "Python 3"
    },
    "language_info": {
      "name": "python"
    }
  },
  "cells": [
    {
      "cell_type": "markdown",
      "metadata": {
        "id": "view-in-github",
        "colab_type": "text"
      },
      "source": [
        "<a href=\"https://colab.research.google.com/github/JonatasMotta25/Algoritmos/blob/main/Migra%C3%A7%C3%A3o_Sistema_de_Vota%C3%A7%C3%A3o_J_P.ipynb\" target=\"_parent\"><img src=\"https://colab.research.google.com/assets/colab-badge.svg\" alt=\"Open In Colab\"/></a>"
      ]
    },
    {
      "cell_type": "code",
      "execution_count": null,
      "metadata": {
        "id": "8oIQ1KXIgcF5"
      },
      "outputs": [],
      "source": [
        "class SistemaDeVotacao:\n",
        "    def main(self):\n",
        "        opcoes = [\"Opção 1\", \"Opção 2\", \"Opção 3\"]\n",
        "        votos = [0] * len(opcoes)\n",
        "        votacao_ativa = True\n",
        "\n",
        "        print(\"Sistema de Votação\")\n",
        "        print(\"As opções são:\")\n",
        "\n",
        "        for i, opcao in enumerate(opcoes, start=1):\n",
        "            print(f\"{i}. {opcao}\")\n",
        "\n",
        "        while votacao_ativa:\n",
        "            escolha = int(input(f\"Escolha uma opção (1-{len(opcoes)}) ou 0 para finalizar a votação: \"))\n",
        "\n",
        "            if escolha == 0:\n",
        "                votacao_ativa = False\n",
        "            elif 1 <= escolha <= len(opcoes):\n",
        "                votos[escolha - 1] += 1\n",
        "                print(f\"Você votou na {opcoes[escolha - 1]}\")\n",
        "            else:\n",
        "                print(\"Opção inválida! Tente novamente.\")\n",
        "\n",
        "        print(\"\\nResultados da Votação:\")\n",
        "        for opcao, voto in zip(opcoes, votos):\n",
        "            print(f\"{opcao}: {voto} voto(s)\")\n",
        "\n",
        "if __name__ == \"__main__\":\n",
        "    sistema = SistemaDeVotacao()\n",
        "    sistema.main()\n"
      ]
    }
  ]
}