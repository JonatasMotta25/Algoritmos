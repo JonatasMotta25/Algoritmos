{
  "nbformat": 4,
  "nbformat_minor": 0,
  "metadata": {
    "colab": {
      "provenance": [],
      "authorship_tag": "ABX9TyOi1bfliaFdcTkTxlgYgqZJ",
      "include_colab_link": true
    },
    "kernelspec": {
      "name": "python3",
      "display_name": "Python 3"
    },
    "language_info": {
      "name": "python"
    }
  },
  "cells": [
    {
      "cell_type": "markdown",
      "metadata": {
        "id": "view-in-github",
        "colab_type": "text"
      },
      "source": [
        "<a href=\"https://colab.research.google.com/github/JonatasMotta25/Algoritmos/blob/main/Aula_6_Exerc%C3%ADcio_Algoritmo.ipynb\" target=\"_parent\"><img src=\"https://colab.research.google.com/assets/colab-badge.svg\" alt=\"Open In Colab\"/></a>"
      ]
    },
    {
      "cell_type": "code",
      "execution_count": 5,
      "metadata": {
        "id": "7EbnYAdf2Fbh",
        "colab": {
          "base_uri": "https://localhost:8080/"
        },
        "outputId": "c2b1aa4a-54ab-4be2-e0ff-dc597357970e"
      },
      "outputs": [
        {
          "output_type": "stream",
          "name": "stdout",
          "text": [
            "True\n"
          ]
        }
      ],
      "source": [
        "#Exercícios\n",
        "1. Implemente uma função recursiva que calcule a potência de um número (base^expoente).\n",
        "def exp_rec(b, e):\n",
        "    if e == 0:\n",
        "      return 1\n",
        "    return b * exp_rec(b, e-1)\n",
        "\n",
        "resultado = exp_rec(10, 2)\n",
        "print(resultado)\n",
        "\n",
        "# 2. Crie uma função recursiva para calcular o n-ésimo termo da sequência de\n",
        "Fibonacci.Lembre-se de que a sequência começa com 0 e 1.\n",
        "def seq_fibo(n):\n",
        "    if n <= 1:\n",
        "        return n\n",
        "    return seq_fibo(n-1) + seq_fibo(n-2)\n",
        "\n",
        "resultado = seq_fibo(10)\n",
        "print(resultado)\n",
        "\n",
        "# 3. Escreva uma função recursiva que conte quantos dígitos um número tem.\n",
        "def quan_dig(n):\n",
        "    if n == 0:\n",
        "        return 0\n",
        "    return 1 + quan_dig( n//10 )\n",
        "\n",
        "resultado = quan_dig(585850)\n",
        "print(resultado)\n",
        "\n",
        "# 4. Escreva uma função recursiva que verifique se uma string é um palíndromo.\n",
        "def palindromo(s):\n",
        "    if len(s) <= 1:\n",
        "        return True\n",
        "    if s[0] != s[-1]:\n",
        "        return False\n",
        "    return palindromo(s[1:-1])\n",
        "\n",
        "resultado = palindromo(\"arara\")\n",
        "print(resultado)\n",
        "\n"
      ]
    }
  ]
}