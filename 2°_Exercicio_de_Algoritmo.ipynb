{
  "nbformat": 4,
  "nbformat_minor": 0,
  "metadata": {
    "colab": {
      "provenance": [],
      "authorship_tag": "ABX9TyOouIBxOyK4vUi5BmvskMjn",
      "include_colab_link": true
    },
    "kernelspec": {
      "name": "python3",
      "display_name": "Python 3"
    },
    "language_info": {
      "name": "python"
    }
  },
  "cells": [
    {
      "cell_type": "markdown",
      "metadata": {
        "id": "view-in-github",
        "colab_type": "text"
      },
      "source": [
        "<a href=\"https://colab.research.google.com/github/JonatasMotta25/Algoritmos/blob/main/2%C2%B0_Exercicio_de_Algoritmo.ipynb\" target=\"_parent\"><img src=\"https://colab.research.google.com/assets/colab-badge.svg\" alt=\"Open In Colab\"/></a>"
      ]
    },
    {
      "cell_type": "code",
      "source": [
        "# Descrição do Problema:\n",
        "# Você foi contratado para ajudar no desenvolvimento de um sistema de cadastro de clientes para a\n",
        "# empresa ExpertDEVS. O objetivo é criar uma aplicação simples que permita gerenciar os\n",
        "# requisitos relacionados aos dados de clientes.\n",
        "\n",
        "#Adicionar Cliente\n",
        "\n",
        "clientes = []\n",
        "def adicionar_cliente(nome, email, telefone, endereço):\n",
        "    cliente = [nome, email, telefone, endereço]\n",
        "    clientes.append(cliente)\n",
        "\n",
        "#Exibir Cliente\n",
        "\n",
        "def exibir_clientes():\n",
        "    for cliente in clientes:\n",
        "        print(f'Nome: {cliente[0]}')\n",
        "        print(f'Email: {cliente[1]}')\n",
        "        print(f'Telefone: {cliente[2]}')\n",
        "        print(f'Endereço: {cliente[3]}')\n",
        "\n",
        "#Buscar Cliente por Email\n",
        "\n",
        "def buscar_cliente(email):\n",
        "    cliente_encontrado = None\n",
        "    for cliente in clientes:\n",
        "        if cliente[1] == email:\n",
        "            cliente_encontrado = cliente\n",
        "            break\n",
        "        return cliente_encontrado\n",
        "\n",
        "#Remover Cliente\n",
        "\n",
        "def remover_cliente(email):\n",
        "    cliente_encontrado = False\n",
        "    for i, cliente in enumerate(clientes):\n",
        "        if cliente[1] == email:\n",
        "           del cliente[i]\n",
        "        print('Cliente removido com sucesso!')\n",
        "        cliente_encontrado = True\n",
        "        break\n",
        "    else:\n",
        "        print('Cliente não encontrado.')\n",
        "\n",
        "#Teste das Funcionalidades\n",
        "\n",
        "while True:\n",
        "    print('Menu:')\n",
        "    print('1. Adicionar Cliente')\n",
        "    print('2. Exibir Clientes')\n",
        "    print('3. Buscar Cliente')\n",
        "    print('4. Remover Cliente')\n",
        "    print('5. Sair')\n",
        "\n",
        "    opcao = input('Escolha uma opção: ')\n",
        "\n",
        "    if opcao == '1':\n",
        "        nome = input('Digite o nome do cliente: ')\n",
        "        email = input('Digite o email do cliente: ')\n",
        "        telefone = input('Digite o telefone do cliente: ')\n",
        "        endereco = input('Digite o endereço do cliente: ')\n",
        "        adicionar_cliente(nome, email, telefone, endereco)\n",
        "        print('Cliente adicionado com sucesso!')\n",
        "    elif opcao == '2':\n",
        "         if clientes:\n",
        "            exibir_clientes()\n",
        "         else:\n",
        "              print('Nenhum cliente foi cadastrado. Faça um cadastro.')\n",
        "    elif opcao == '3':\n",
        "         email = input('Digite o email do cliente: ')\n",
        "         buscar_cliente(email)\n",
        "    elif opcao == '4':\n",
        "         email = input('Digite o email do cliente: ')\n",
        "         remover_cliente(email)\n",
        "    elif opcao == '5':\n",
        "         break\n",
        "    else:\n",
        "         print('Opção inválida.')\n",
        "\n"
      ],
      "metadata": {
        "id": "nifJ1xOeQmOs"
      },
      "execution_count": null,
      "outputs": []
    }
  ]
}