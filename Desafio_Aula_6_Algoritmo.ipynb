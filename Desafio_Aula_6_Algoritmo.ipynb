{
  "nbformat": 4,
  "nbformat_minor": 0,
  "metadata": {
    "colab": {
      "provenance": [],
      "authorship_tag": "ABX9TyO2JqE5HjBevW2JLjnyXvRS",
      "include_colab_link": true
    },
    "kernelspec": {
      "name": "python3",
      "display_name": "Python 3"
    },
    "language_info": {
      "name": "python"
    }
  },
  "cells": [
    {
      "cell_type": "markdown",
      "metadata": {
        "id": "view-in-github",
        "colab_type": "text"
      },
      "source": [
        "<a href=\"https://colab.research.google.com/github/JonatasMotta25/Algoritmos/blob/main/Desafio_Aula_6_Algoritmo.ipynb\" target=\"_parent\"><img src=\"https://colab.research.google.com/assets/colab-badge.svg\" alt=\"Open In Colab\"/></a>"
      ]
    },
    {
      "cell_type": "code",
      "execution_count": 1,
      "metadata": {
        "id": "ovZZnfcONvig",
        "colab": {
          "base_uri": "https://localhost:8080/"
        },
        "outputId": "cf863ce6-0df7-43e5-c6f7-3294246b56ea"
      },
      "outputs": [
        {
          "output_type": "stream",
          "name": "stdout",
          "text": [
            "Senha gerada e criptografada: +nIi#\\=,M}\n"
          ]
        }
      ],
      "source": [
        "#desafio\n",
        "# Escreva um algoritmo recursivo que crie uma senha gerada de forma aleatória e\n",
        "# que seja criptografada caractere por caractere usando uma cifra de César simples.\n",
        "import random\n",
        "import string\n",
        "\n",
        "def cifre_cesar(texto, deslocamento):\n",
        "    if not texto:\n",
        "        return \"\"\n",
        "    letra = texto[0]\n",
        "    if 'a' <= letra <= 'z':\n",
        "        deslocamento_letra = ord(letra) + deslocamento\n",
        "        if deslocamento_letra > ord('z'):\n",
        "            deslocamento_letra -= 26\n",
        "        elif deslocamento_letra < ord('a'):\n",
        "            deslocamento_letra += 26\n",
        "        return chr(deslocamento_letra) + cifre_cesar(texto[1:], deslocamento)\n",
        "    elif 'A' <= letra <= 'Z':\n",
        "        deslocamento_letra = ord(letra) + deslocamento\n",
        "        if deslocamento_letra > ord('Z'):\n",
        "            deslocamento_letra -= 26\n",
        "        elif deslocamento_letra < ord('A'):\n",
        "            deslocamento_letra += 26\n",
        "        return chr(deslocamento_letra) + cifre_cesar(texto[1:], deslocamento)\n",
        "    else:\n",
        "        return letra + cifre_cesar(texto[1:], deslocamento)\n",
        "\n",
        "def gerar_senha(tamanho, deslocamento):\n",
        "    caracteres = string.ascii_letters + string.digits + string.punctuation\n",
        "    senha = ''.join(random.choice(caracteres) for i in range(tamanho))\n",
        "    senha_criptografada = cifre_cesar(senha, deslocamento)\n",
        "    return senha_criptografada\n",
        "\n",
        "tamanho_senha = 10\n",
        "deslocamento_cesar = 3\n",
        "senha_gerada = gerar_senha(tamanho_senha, deslocamento_cesar)\n",
        "print(\"Senha gerada e criptografada:\", senha_gerada)"
      ]
    }
  ]
}