{
  "nbformat": 4,
  "nbformat_minor": 0,
  "metadata": {
    "colab": {
      "provenance": [],
      "authorship_tag": "ABX9TyP9vULFD/hzgDhUEYtf49Et",
      "include_colab_link": true
    },
    "kernelspec": {
      "name": "python3",
      "display_name": "Python 3"
    },
    "language_info": {
      "name": "python"
    }
  },
  "cells": [
    {
      "cell_type": "markdown",
      "metadata": {
        "id": "view-in-github",
        "colab_type": "text"
      },
      "source": [
        "<a href=\"https://colab.research.google.com/github/JonatasMotta25/Algoritmos/blob/main/Algoritmo_Aula2_P2.ipynb\" target=\"_parent\"><img src=\"https://colab.research.google.com/assets/colab-badge.svg\" alt=\"Open In Colab\"/></a>"
      ]
    },
    {
      "cell_type": "code",
      "execution_count": null,
      "metadata": {
        "id": "TuyEaar5qAPV"
      },
      "outputs": [],
      "source": [
        "#Ex.1. Tratamento de exceções básicas: Escreva um programa que peça ao usuário\n",
        "# dois números e faça a divisão do primeiro pelo segundo. Se o usuário inserir\n",
        "# um valor inválido ou tentar dividir por zero, o programa deve exibir uma\n",
        "# mensagem de erro apropriada.\n",
        "\n",
        "valor1 = int(input(\"Digite um valor: \"))\n",
        "valor2 = int(input(\"Digite um outro valor: \"))\n",
        "\n",
        "try:\n",
        "    divisao = valor1 / valor2\n",
        "    print(divisao)\n",
        "\n",
        "except ZeroDivisionError:\n",
        "    print(\"Não é possível dividir por zero\")\n",
        "except ValueError:\n",
        "    print(\"Valor inválido\")\n",
        "\n",
        "finally:\n",
        "    print(\"Programa finalizado\")"
      ]
    },
    {
      "cell_type": "code",
      "source": [
        "#Ex.2. Capturando exceções múltiplas: Crie um programa que peça ao usuário o\n",
        "# nome de uma cor e mostre seu valor em RGB de acordo com um dicionário\n",
        "# pré-definido. O programa deve tratar exceções caso o nome da cor não exista\n",
        "# no dicionário.\n",
        "\n",
        "cor = input(\"Digite uma cor: \")\n",
        "\n",
        "cores = {'vermelho': (255, 0, 0), 'verde': (0, 255, 0), 'azul':\n",
        "(0, 0, 255)}\n",
        "\n",
        "try:\n",
        "    print(cores[cor])\n",
        "\n",
        "except KeyError:\n",
        "    print(\"Cor não encontrada\")\n",
        "finally:\n",
        "    print(\"Programa finalizado\")\n"
      ],
      "metadata": {
        "id": "cKxPJ_VQvuEP"
      },
      "execution_count": null,
      "outputs": []
    },
    {
      "cell_type": "code",
      "source": [
        "#Ex.3. Bloco else e finally: Escreva um programa que solicite um número ao\n",
        "# usuário. Se o número for maior que 10, exiba uma mensagem dizendo que o\n",
        "# número é válido. Utilize o bloco else para imprimir que o programa foi\n",
        "# executado com sucesso, e o bloco finally para imprimir \"Programa\n",
        "# encerrado\".\n",
        "\n",
        "num = int(input(\"Digite um número: \"))\n",
        "\n",
        "try:\n",
        "    if num > 10:\n",
        "        print(\"Número válido.\")\n",
        "    elif num <= 10:\n",
        "         print(\"Número inválido\")\n",
        "\n",
        "except ValueError:\n",
        "    print(\"Valor inválido\")\n",
        "\n",
        "else:\n",
        "    print(\"Programa executado com sucesso\")\n",
        "\n",
        "finally:\n",
        "    print(\"Programa encerrado\")"
      ],
      "metadata": {
        "id": "yGhwbM4jwjJh"
      },
      "execution_count": null,
      "outputs": []
    },
    {
      "cell_type": "code",
      "source": [
        "# Ex.4. Exceções personalizadas: Escreva uma função que verifica se uma senha\n",
        "# possui no mínimo 8 caracteres e pelo menos um número. Se a senha não\n",
        "# atender aos requisitos, levante uma exceção com uma mensagem\n",
        "# personalizada. Trate a exceção e mostre a mensagem ao usuário.\n",
        "\n",
        "class SenhaInvalidaError(Exception):\n",
        "    pass\n",
        "\n",
        "def verificar_senha(senha):\n",
        "    if len(senha) < 8:\n",
        "        raise SenhaInvalidaError(\"A senha deve ter no mínimo 8 caracteres.\")\n",
        "    if not any(char.isdigit() for char in senha):\n",
        "        raise SenhaInvalidaError(\"A senha deve conter pelo menos um número.\")\n",
        "    return True\n",
        "\n",
        "try:\n",
        "    senha = input(\"Digite sua senha: \")\n",
        "    verificar_senha(senha)\n",
        "    print(\"Senha válida!\")\n",
        "except SenhaInvalidaError as e:\n",
        "    print(f\"Erro: {e}\")\n",
        ""
      ],
      "metadata": {
        "id": "fKjd0DnYyDPR"
      },
      "execution_count": null,
      "outputs": []
    },
    {
      "cell_type": "code",
      "source": [
        "#Ex.5. Simulação de transações: Crie um programa que simule uma transferência\n",
        "# bancária. Peça ao usuário o saldo da conta e o valor da transferência. Caso o\n",
        "# saldo seja insuficiente, levante uma exceção do tipo ValueError com a\n",
        "# mensagem \"Saldo insuficiente\". Trate a exceção adequadamente e informe o\n",
        "# usuário.\n",
        "\n",
        "saldo_conta = float(input(\"Digite o saldo da conta: \"))\n",
        "valor_transferencia = float(input(\"Digite o valor da transferência: \"))\n",
        "\n",
        "try:\n",
        "  if saldo_conta < valor_transferencia:\n",
        "    raise ValueError(\"Saldo insuficiente\")\n",
        "  saldo_conta -= valor_transferencia\n",
        "  print(f\"Transferência realizada com sucesso! Novo saldo: {saldo_conta}\")\n",
        "\n",
        "except ValueError as e:\n",
        "  print(f\"Erro: {e}\")"
      ],
      "metadata": {
        "id": "9Nu4fK8Z2qBD"
      },
      "execution_count": null,
      "outputs": []
    }
  ]
}