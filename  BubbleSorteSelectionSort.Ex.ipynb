{
  "nbformat": 4,
  "nbformat_minor": 0,
  "metadata": {
    "colab": {
      "provenance": [],
      "authorship_tag": "ABX9TyNmNrOC0g5lPtQvbgs2hKs6",
      "include_colab_link": true
    },
    "kernelspec": {
      "name": "python3",
      "display_name": "Python 3"
    },
    "language_info": {
      "name": "python"
    }
  },
  "cells": [
    {
      "cell_type": "markdown",
      "metadata": {
        "id": "view-in-github",
        "colab_type": "text"
      },
      "source": [
        "<a href=\"https://colab.research.google.com/github/JonatasMotta25/Algoritmos/blob/main/%20BubbleSorteSelectionSort.Ex.ipynb\" target=\"_parent\"><img src=\"https://colab.research.google.com/assets/colab-badge.svg\" alt=\"Open In Colab\"/></a>"
      ]
    },
    {
      "cell_type": "code",
      "execution_count": 26,
      "metadata": {
        "id": "fk_6ygwjgfoT",
        "colab": {
          "base_uri": "https://localhost:8080/"
        },
        "outputId": "3b605773-12ad-4c68-c858-24db47517dc9"
      },
      "outputs": [
        {
          "output_type": "stream",
          "name": "stdout",
          "text": [
            "Tempo Bubble Sort: 1.1940011978149414\n",
            "Tempo Selection Sort: 0.08890938758850098\n"
          ]
        }
      ],
      "source": [
        "import random\n",
        "import time\n",
        "\n",
        "# Geração da lista de 10 milhões de números inteiros aleatórios\n",
        "n = 10000000\n",
        "random_list = random.sample(range(n*2), n)\n",
        "\n",
        "# Função Bubble Sort\n",
        "def bubble_sort(arr):\n",
        "    n = len(arr)\n",
        "    for i in range(n):\n",
        "        for j in range(0, n-i-1):\n",
        "            if arr[j] > arr[j+1]:\n",
        "                arr[j], arr[j+1] = arr[j+1], arr[j]\n",
        "\n",
        "# Função Selection Sort\n",
        "def selection_sort(arr):\n",
        "    n = len(arr)\n",
        "    for i in range(n):\n",
        "        min_idx = i\n",
        "        for j in range(i+1, n):\n",
        "            if arr[j] < arr[min_idx]:\n",
        "                min_idx = j\n",
        "        arr[i], arr[min_idx] = arr[min_idx], arr[i]\n",
        "\n",
        "# Comparação de tempo para o Bubble Sort\n",
        "bubble_list = random_list.copy()\n",
        "start_time = time.time()\n",
        "bubble_sort(bubble_list[:1000])  # Reduzindo o tamanho da lista para evitar tempo excessivo\n",
        "bubble_time = time.time() - start_time\n",
        "\n",
        "# Comparação de tempo para o Selection Sort\n",
        "selection_list = random_list.copy()\n",
        "start_time = time.time()\n",
        "selection_sort(selection_list[:1000]) # Reduzindo o tamanho da lista para evitar tempo excessivo\n",
        "selection_time = time.time() - start_time\n",
        "\n",
        "print(\"Tempo Bubble Sort:\", bubble_time)\n",
        "print(\"Tempo Selection Sort:\", selection_time)"
      ]
    }
  ]
}