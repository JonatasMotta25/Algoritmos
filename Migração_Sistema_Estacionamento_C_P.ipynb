{
  "nbformat": 4,
  "nbformat_minor": 0,
  "metadata": {
    "colab": {
      "provenance": [],
      "authorship_tag": "ABX9TyNSluW+04xKXu2FqXVqzbYD",
      "include_colab_link": true
    },
    "kernelspec": {
      "name": "python3",
      "display_name": "Python 3"
    },
    "language_info": {
      "name": "python"
    }
  },
  "cells": [
    {
      "cell_type": "markdown",
      "metadata": {
        "id": "view-in-github",
        "colab_type": "text"
      },
      "source": [
        "<a href=\"https://colab.research.google.com/github/JonatasMotta25/Algoritmos/blob/main/Migra%C3%A7%C3%A3o_Sistema_Estacionamento_C_P.ipynb\" target=\"_parent\"><img src=\"https://colab.research.google.com/assets/colab-badge.svg\" alt=\"Open In Colab\"/></a>"
      ]
    },
    {
      "cell_type": "code",
      "execution_count": null,
      "metadata": {
        "id": "lRfIK-LZ47Vv"
      },
      "outputs": [],
      "source": [
        "class Vaga:\n",
        "    def __init__(self, id):\n",
        "        self.id = id\n",
        "        self.placa = \"\"\n",
        "        self.ocupado = False\n",
        "\n",
        "class Estacionamento:\n",
        "    MAX_VAGAS = 100\n",
        "\n",
        "    def __init__(self):\n",
        "        self.estacionamento = [Vaga(i + 1) for i in range(self.MAX_VAGAS)]\n",
        "\n",
        "    def exibir_vagas(self):\n",
        "        print(\"Vagas disponíveis:\")\n",
        "        for vaga in self.estacionamento:\n",
        "            if not vaga.ocupado:\n",
        "                print(f\"Vaga {vaga.id} está livre.\")\n",
        "\n",
        "    def estacionar_veiculo(self):\n",
        "        placa = input(\"Informe a placa do veículo: \")\n",
        "        for vaga in self.estacionamento:\n",
        "            if not vaga.ocupado:\n",
        "                vaga.ocupado = True\n",
        "                vaga.placa = placa\n",
        "                print(f\"Veículo com placa {placa} estacionado na vaga {vaga.id}.\")\n",
        "                return\n",
        "        print(\"Estacionamento cheio!\")\n",
        "\n",
        "    def remover_veiculo(self):\n",
        "        placa = input(\"Informe a placa do veículo a ser removido: \")\n",
        "        for vaga in self.estacionamento:\n",
        "            if vaga.ocupado and vaga.placa == placa:\n",
        "                vaga.ocupado = False\n",
        "                vaga.placa = \"\"\n",
        "                print(f\"Veículo com placa {placa} removido da vaga {vaga.id}.\")\n",
        "                return\n",
        "        print(\"Veículo não encontrado.\")\n",
        "\n",
        "def main():\n",
        "    estacionamento = Estacionamento()\n",
        "    opcao = 0\n",
        "\n",
        "    while opcao != 4:\n",
        "        print(\"\\nSistema de Gerenciamento de Estacionamento\")\n",
        "        print(\"1. Exibir Vagas\")\n",
        "        print(\"2. Estacionar Veículo\")\n",
        "        print(\"3. Remover Veículo\")\n",
        "        print(\"4. Sair\")\n",
        "        opcao = int(input(\"Escolha uma opção: \"))\n",
        "\n",
        "        if opcao == 1:\n",
        "            estacionamento.exibir_vagas()\n",
        "        elif opcao == 2:\n",
        "            estacionamento.estacionar_veiculo()\n",
        "        elif opcao == 3:\n",
        "            estacionamento.remover_veiculo()\n",
        "        elif opcao == 4:\n",
        "            print(\"Saindo do sistema...\")\n",
        "        else:\n",
        "            print(\"Opção inválida! Tente novamente.\")\n",
        "\n",
        "if __name__ == \"__main__\":\n",
        "    main()"
      ]
    }
  ]
}