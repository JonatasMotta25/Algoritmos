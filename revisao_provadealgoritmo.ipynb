{
  "nbformat": 4,
  "nbformat_minor": 0,
  "metadata": {
    "colab": {
      "provenance": [],
      "authorship_tag": "ABX9TyPM6e8BZz45A/BqvC4qXUsb",
      "include_colab_link": true
    },
    "kernelspec": {
      "name": "python3",
      "display_name": "Python 3"
    },
    "language_info": {
      "name": "python"
    }
  },
  "cells": [
    {
      "cell_type": "markdown",
      "metadata": {
        "id": "view-in-github",
        "colab_type": "text"
      },
      "source": [
        "<a href=\"https://colab.research.google.com/github/JonatasMotta25/Algoritmos/blob/main/revisao_provadealgoritmo.ipynb\" target=\"_parent\"><img src=\"https://colab.research.google.com/assets/colab-badge.svg\" alt=\"Open In Colab\"/></a>"
      ]
    },
    {
      "cell_type": "code",
      "execution_count": null,
      "metadata": {
        "id": "tbhP9cittpHO",
        "colab": {
          "base_uri": "https://localhost:8080/"
        },
        "outputId": "6ed549f4-8463-4dbb-963a-468499e8f1bb"
      },
      "outputs": [
        {
          "output_type": "stream",
          "name": "stdout",
          "text": [
            "Lista de números: [12, 36, 7, 86, 49, 14, 33, 87, 34, 47]\n",
            "Maior número: 87\n",
            "Menor número: 7\n"
          ]
        }
      ],
      "source": [
        "# 1. Criação e Manipulação de Listas:\n",
        "# Crie uma lista com 10 números inteiros aleatórios e escreva um programa para imprimir o\n",
        "# maior e o menor número dessa lista.\n",
        "\n",
        "import random\n",
        "\n",
        "lista_numeros = [random.randint(1, 100) for item in range(10)]\n",
        "print(f\"Lista de números: {lista_numeros}\")\n",
        "maior_numero = max(lista_numeros)\n",
        "menor_numero = min(lista_numeros)\n",
        "print(f\"Maior número: {maior_numero}\")\n",
        "print(f\"Menor número: {menor_numero}\")"
      ]
    },
    {
      "cell_type": "code",
      "source": [
        "# 2. Operações com Listas:\n",
        "# Escreva um programa que receba 5 nomes de frutas do usuário e os armazene em uma lista.\n",
        "# Depois, peça ao usuário que informe uma fruta e verifique se ela está na lista.\n",
        "\n",
        "lista_frutas = []\n",
        "for item in range(5):\n",
        "    fruta = input(\"Escolha uma fruta: \")\n",
        "    lista_frutas.append(fruta)\n",
        "    print(lista_frutas)\n",
        "fruta_usuario = input(\"Informe uma fruta: \")\n",
        "if fruta_usuario in lista_frutas:\n",
        "    print(f\"A fruta {fruta_usuario} está na lista.\")\n",
        "else:\n",
        "    print(f\"A fruta {fruta_usuario} não está na lista.\")\n"
      ],
      "metadata": {
        "colab": {
          "base_uri": "https://localhost:8080/"
        },
        "id": "0REbO00d5Vgs",
        "outputId": "8ebd92b4-50be-4e24-b827-8f6161f93bd0"
      },
      "execution_count": null,
      "outputs": [
        {
          "output_type": "stream",
          "name": "stdout",
          "text": [
            "Escolha uma fruta: Banana\n",
            "['Banana']\n",
            "Escolha uma fruta: Carambola\n",
            "['Banana', 'Carambola']\n",
            "Escolha uma fruta: Abacaxi\n",
            "['Banana', 'Carambola', 'Abacaxi']\n",
            "Escolha uma fruta: Açaí\n",
            "['Banana', 'Carambola', 'Abacaxi', 'Açaí']\n",
            "Escolha uma fruta: Mamão\n",
            "['Banana', 'Carambola', 'Abacaxi', 'Açaí', 'Mamão']\n",
            "Informe uma fruta: Banana\n",
            "A fruta Banana está na lista.\n"
          ]
        }
      ]
    },
    {
      "cell_type": "code",
      "source": [
        "# 3. Manipulação de Listas com Laços:\n",
        "# Crie uma lista de 10 elementos numéricos e escreva uma função que calcule a média dos\n",
        "# números presentes na lista.\n",
        "\n",
        "lista_numerico = []\n",
        "\n",
        "def calculo_media(lista_numerico):\n",
        "  soma = 0\n",
        "  for numero in lista_numerico:\n",
        "      soma += numero\n",
        "  media = soma / len(lista_numerico)\n",
        "  return media\n",
        "\n",
        "for item in range(10):\n",
        "   numero = int(input('Digite um numero: '))\n",
        "   lista_numerico.append(numero)\n",
        "\n",
        "media = calculo_media(lista_numerico)\n",
        "print(f\"A média dos números na lista é: {media}\")"
      ],
      "metadata": {
        "colab": {
          "base_uri": "https://localhost:8080/"
        },
        "id": "g7-wkKeaCP4a",
        "outputId": "d041f93a-e585-46ec-b584-e7e3780a86ac"
      },
      "execution_count": null,
      "outputs": [
        {
          "output_type": "stream",
          "name": "stdout",
          "text": [
            "Digite um numero: 10\n",
            "Digite um numero: 20\n",
            "Digite um numero: 30\n",
            "Digite um numero: 40\n",
            "Digite um numero: 50\n",
            "Digite um numero: 60\n",
            "Digite um numero: 70\n",
            "Digite um numero: 80\n",
            "Digite um numero: 90\n",
            "Digite um numero: 100\n",
            "A média dos números na lista é: 55.0\n"
          ]
        }
      ]
    },
    {
      "cell_type": "code",
      "source": [
        "# 4. Listas Aninhadas:\n",
        "# Crie uma lista de listas onde cada sublista deve conter três elementos: o nome de uma\n",
        "# pessoa, sua idade e sua cidade. Imprima todas as informações no formato: \"Nome: [Nome],\n",
        "# Idade: [Idade], Cidade: [Cidade]\".\n",
        "\n",
        "lista_nome = [\"[Matheus]\", \"[Jonatas]\", \"[Brenno]\"]\n",
        "lista_idade = [[27], [26], [22]]\n",
        "lista_cidade = [\"[Araruama]\", \"[Saquarema]\", \"[Cabo frio]\"]\n",
        "\n",
        "def lista_de_listas():\n",
        "    for nome, idade, cidade in zip(lista_nome, lista_idade, lista_cidade):\n",
        "        print(f\"Nome: {nome}, Idade: {idade}, Cidade: {cidade}\")\n",
        "\n",
        "resultado = lista_de_listas()\n",
        "print(resultado)\n",
        "\n",
        "\n"
      ],
      "metadata": {
        "colab": {
          "base_uri": "https://localhost:8080/"
        },
        "id": "0DF8o4S2J6eL",
        "outputId": "6e67e0db-c011-4f3c-e638-11d602486a41"
      },
      "execution_count": null,
      "outputs": [
        {
          "output_type": "stream",
          "name": "stdout",
          "text": [
            "Nome: [Matheus], Idade: [27], Cidade: [Araruama]\n",
            "Nome: [Jonatas], Idade: [26], Cidade: [Saquarema]\n",
            "Nome: [Brenno], Idade: [22], Cidade: [Cabo frio]\n",
            "None\n"
          ]
        }
      ]
    },
    {
      "cell_type": "code",
      "source": [
        "# 5. Remoção de Duplicatas:\n",
        "# Escreva um programa que receba uma lista de números do usuário e remova todos os\n",
        "# números duplicados, exibindo a lista resultante sem repetições.\n",
        "\n",
        "lista_numerica = []\n",
        "for item in range(10):\n",
        "    numero = input(\"Digite um número para lista :\")\n",
        "    lista_numerica.append(numero)\n",
        "lista_sem_duplicatas = list(dict.fromkeys(lista_numerica))\n",
        "print(lista_sem_duplicatas)"
      ],
      "metadata": {
        "colab": {
          "base_uri": "https://localhost:8080/"
        },
        "id": "nGBtDlndNJDG",
        "outputId": "73401b0f-3f95-4d65-8bbb-251b1c933db5"
      },
      "execution_count": null,
      "outputs": [
        {
          "output_type": "stream",
          "name": "stdout",
          "text": [
            "Digite um número para lista :1\n",
            "Digite um número para lista :2\n",
            "Digite um número para lista :3\n",
            "Digite um número para lista :4\n",
            "Digite um número para lista :2\n",
            "Digite um número para lista :4\n",
            "Digite um número para lista :5\n",
            "Digite um número para lista :6\n",
            "Digite um número para lista :2\n",
            "Digite um número para lista :7\n",
            "['1', '2', '3', '4', '5', '6', '7']\n"
          ]
        }
      ]
    },
    {
      "cell_type": "code",
      "source": [
        "# 6. Criação e Acesso a Dicionários:\n",
        "# Crie um dicionário que armazene os dias da semana como chaves e o número de horas\n",
        "# trabalhadas em cada dia como valores. Solicite ao usuário a entrada dessas horas e depois\n",
        "# calcule o total de horas trabalhadas na semana.\n",
        "\n",
        "banco_de_horas = {\n",
        "    \"Segunda feira\": \" \",\n",
        "    \"Terça feira\": \" \",\n",
        "    \"Quarta feira\": \" \",\n",
        "    \"Quinta feira\": \" \",\n",
        "    \"Sexta feira\": \" \"\n",
        "    }\n",
        "def calculo_banco_de_horas():\n",
        "   for hora in banco_de_horas:\n",
        "      horas = int(input(f\"Digite quantas horas você trabalhou no dia {hora}: \"))\n",
        "      banco_de_horas[hora] = horas\n",
        "   return banco_de_horas\n",
        "\n",
        "horas_trabalhadas = calculo_banco_de_horas()\n",
        "print(horas_trabalhadas)\n",
        "\n",
        "total_horas = sum(horas_trabalhadas.values())\n",
        "print(f\"O total de horas trabalhadas na semana foi de {total_horas} horas.\")\n"
      ],
      "metadata": {
        "colab": {
          "base_uri": "https://localhost:8080/"
        },
        "id": "-aX4MSayU-7R",
        "outputId": "56aff1bf-c9e1-48e6-b37b-ea51d2ed7b89"
      },
      "execution_count": null,
      "outputs": [
        {
          "output_type": "stream",
          "name": "stdout",
          "text": [
            "Digite quantas horas você trabalhou no dia Segunda feira: 10\n",
            "Digite quantas horas você trabalhou no dia Terça feira: 10\n",
            "Digite quantas horas você trabalhou no dia Quarta feira: 10\n",
            "Digite quantas horas você trabalhou no dia Quinta feira: 10\n",
            "Digite quantas horas você trabalhou no dia Sexta feira: 10\n",
            "{'Segunda feira': 10, 'Terça feira': 10, 'Quarta feira': 10, 'Quinta feira': 10, 'Sexta feira': 10}\n",
            "O total de horas trabalhadas na semana foi de 50 horas.\n"
          ]
        }
      ]
    },
    {
      "cell_type": "code",
      "source": [
        "# 7. Atualização de Dicionários:\n",
        "# Dada uma lista de nomes de alunos e suas respectivas notas em uma prova, crie um\n",
        "# dicionário e permita que o usuário consulte e atualize a nota de um aluno específico.\n",
        "\n",
        "alunos = ['Jonatas', 9, 'Matheus Souza', 10, \"Matheus Silva\", 8, \"Brenno\", 9]\n",
        "\n",
        "dicionario_alunos = {}\n",
        "\n",
        "for i, v in enumerate(alunos):\n",
        "    if i % 2 == 0:\n",
        "        dicionario_alunos.update({v: alunos[i+1]})\n",
        "def consulta_atualiza_nota(dicionario_alunos):\n",
        "    while True:\n",
        "        nome_aluno = input(\"Digite o nome do aluno que deseja consultar ou atualizar a nota (ou 'sair' para encerrar): \")\n",
        "        if nome_aluno.lower() == 'sair':\n",
        "            break\n",
        "        if nome_aluno in dicionario_alunos:\n",
        "            print(f\"A nota atual de {nome_aluno} é: {dicionario_alunos[nome_aluno]}\")\n",
        "            opcao = input(\"Deseja atualizar a nota? (s/n): \")\n",
        "            if opcao.lower() == 's':\n",
        "                nova_nota = int(input(\"Digite a nova nota: \"))\n",
        "                dicionario_alunos[nome_aluno] = nova_nota\n",
        "                print(f\"Nota de {nome_aluno} atualizada para {nova_nota}.\")\n",
        "for i in range(0, len(alunos), 2):\n",
        "    dicionario_alunos[alunos[i]] = alunos[i + 1]\n",
        "\n",
        "consulta_atualiza_nota(dicionario_alunos)\n",
        "print(\"Dicionário de alunos atualizado:\", dicionario_alunos)"
      ],
      "metadata": {
        "colab": {
          "base_uri": "https://localhost:8080/"
        },
        "id": "1SNW5PGYZB7u",
        "outputId": "677382f4-104a-4d39-8ee8-433e0f9d6838"
      },
      "execution_count": null,
      "outputs": [
        {
          "output_type": "stream",
          "name": "stdout",
          "text": [
            "Digite o nome do aluno que deseja consultar ou atualizar a nota (ou 'sair' para encerrar): Jonatas\n",
            "A nota atual de Jonatas é: 9\n",
            "Deseja atualizar a nota? (s/n): s\n",
            "Digite a nova nota: 10\n",
            "Nota de Jonatas atualizada para 10.\n",
            "Digite o nome do aluno que deseja consultar ou atualizar a nota (ou 'sair' para encerrar): sair\n",
            "Dicionário de alunos atualizado: {'Jonatas': 10, 'Matheus Souza': 10, 'Matheus Silva': 8, 'Brenno': 9}\n"
          ]
        }
      ]
    },
    {
      "cell_type": "code",
      "source": [
        "# 8. Iteração sobre Dicionários:\n",
        "# Crie um dicionário que armazene a quantidade de produtos em estoque em uma loja.\n",
        "# Escreva uma função que verifique se um produto está em estoque e quantas unidades estão\n",
        "# disponíveis.\n",
        "\n",
        "quantidade_de_produtos = {\n",
        "    \"Bolas\": 10,\n",
        "    \"Camisas\": 20,\n",
        "    \"Coletes\": 40,\n",
        "    \"Bermudas\": 20,\n",
        "    \"Meias\": 50\n",
        "}\n",
        "\n",
        "def verificar_estoque(quantidade_de_produtos):\n",
        "    while True:\n",
        "        produto = input(\"Digite o produto que deseja verificar o estoque (ou 'sair' para encerrar)\")\n",
        "        if produto.lower() == \"sair\":\n",
        "           break\n",
        "        if produto in quantidade_de_produtos:\n",
        "            estoque = quantidade_de_produtos[produto]\n",
        "            print(f\"O produto {produto} tem {estoque} em estoque.\")\n",
        "        else:\n",
        "            print(f\"O produto {produto} não está em estoque.\")\n",
        "\n",
        "verificar_estoque(quantidade_de_produtos)\n",
        "print(quantidade_de_produtos)\n"
      ],
      "metadata": {
        "colab": {
          "base_uri": "https://localhost:8080/"
        },
        "id": "qCrD36fEvhOr",
        "outputId": "72ad4822-3365-4920-ceb5-987949e377ec"
      },
      "execution_count": null,
      "outputs": [
        {
          "output_type": "stream",
          "name": "stdout",
          "text": [
            "Digite o produto que deseja verificar o estoque (ou 'sair' para encerrar)Bolas\n",
            "O produto Bolas tem 10 em estoque.\n",
            "Digite o produto que deseja verificar o estoque (ou 'sair' para encerrar)sair\n",
            "{'Bolas': 10, 'Camisas': 20, 'Coletes': 40, 'Bermudas': 20, 'Meias': 50}\n"
          ]
        }
      ]
    },
    {
      "cell_type": "code",
      "source": [
        "# 9. Conversão entre Listas e Dicionários:\n",
        "# Crie duas listas: uma com nomes de países e outra com suas respectivas capitais. Converta\n",
        "# essas duas listas em um dicionário, onde o país é a chave e a capital é o valor.\n",
        "\n",
        "paises = [\"Brasil\", \"Argentina\", \"Alemanha\", \"Espanha\", \"Portugal\", \"Inglaterra\", \"França\", \"Japão\"]\n",
        "capitais = [\"Brasília\", \"Buenos Aires\", \"Berlim\", \"Madrid\", \"Lisboa\", \"Londres\", \"Paris\", \"Tóquio\"]\n",
        "\n",
        "dicionario = dict(zip(paises, capitais))\n",
        "print(dicionario)\n"
      ],
      "metadata": {
        "colab": {
          "base_uri": "https://localhost:8080/"
        },
        "id": "pm6jQ83u0w6i",
        "outputId": "f3dfb88c-590a-47b6-b612-e0990f7f4b38"
      },
      "execution_count": null,
      "outputs": [
        {
          "output_type": "stream",
          "name": "stdout",
          "text": [
            "{'Brasil': 'Brasília', 'Argentina': 'Buenos Aires', 'Alemanha': 'Berlim', 'Espanha': 'Madrid', 'Portugal': 'Lisboa', 'Inglaterra': 'Londres', 'França': 'Paris', 'Japão': 'Tóquio'}\n"
          ]
        }
      ]
    },
    {
      "cell_type": "code",
      "source": [
        "# 10. Dicionário Aninhado:\n",
        "# Crie um dicionário para armazenar informações sobre estudantes, onde cada chave é o\n",
        "# nome de um estudante e o valor é outro dicionário contendo suas notas nas disciplinas\n",
        "# \"Matemática\", \"Português\" e \"Ciências\". Permita que o usuário acesse e altere as notas dos\n",
        "# alunos.\n",
        "\n",
        "estudantes = {}\n",
        "\n",
        "def adicionar_aluno(estudantes):\n",
        "  nome = input(\"Digite o nome do aluno: \")\n",
        "  estudantes[nome] = {\"Matemática\": 0, \"Português\": 0, \"Ciências\": 0}\n",
        "  print(f\"Aluno {nome} adicionado com sucesso!\")\n",
        "\n",
        "def acessar_notas(estudantes):\n",
        "  nome = input(\"Digite o nome do aluno que deseja acessar as notas: \")\n",
        "  if nome in estudantes:\n",
        "    print(f\"Notas de {nome}:\")\n",
        "    for disciplina, nota in estudantes[nome].items():\n",
        "      print(f\"{disciplina}: {nota}\")\n",
        "  else:\n",
        "    print(\"Aluno não encontrado.\")\n",
        "\n",
        "def alterar_notas(estudantes):\n",
        "  nome = input(\"Digite o nome do aluno que deseja alterar as notas: \")\n",
        "  if nome in estudantes:\n",
        "    disciplina = input(\"Digite a disciplina que deseja alterar: \")\n",
        "    if disciplina in estudantes[nome]:\n",
        "      nova_nota = int(input(f\"Digite a nova nota para {disciplina}: \"))\n",
        "      estudantes[nome][disciplina] = nova_nota\n",
        "      print(f\"Nota de {nome} em {disciplina} alterada para {nova_nota}.\")\n",
        "    else:\n",
        "      print(\"Disciplina inválida.\")\n",
        "  else:\n",
        "    print(\"Aluno não encontrado.\")\n",
        "\n",
        "\n",
        "while True:\n",
        "  print(\"\\nOpções:\")\n",
        "  print(\"1. Adicionar aluno\")\n",
        "  print(\"2. Acessar notas\")\n",
        "  print(\"3. Alterar notas\")\n",
        "  print(\"4. Sair\")\n",
        "\n",
        "  opcao = input(\"Escolha uma opção: \")\n",
        "\n",
        "  if opcao == \"1\":\n",
        "    adicionar_aluno(estudantes)\n",
        "  elif opcao == \"2\":\n",
        "    acessar_notas(estudantes)\n",
        "  elif opcao == \"3\":\n",
        "    alterar_notas(estudantes)\n",
        "  elif opcao == \"4\":\n",
        "    break\n",
        "  else:\n",
        "    print(\"Opção inválida.\")\n",
        "\n",
        "print(\"Programa encerrado.\")"
      ],
      "metadata": {
        "colab": {
          "base_uri": "https://localhost:8080/"
        },
        "id": "K9YbWQjo3VRy",
        "outputId": "ec07b0fd-2890-4e10-ae79-553ef20ade6d"
      },
      "execution_count": null,
      "outputs": [
        {
          "output_type": "stream",
          "name": "stdout",
          "text": [
            "\n",
            "Opções:\n",
            "1. Adicionar aluno\n",
            "2. Acessar notas\n",
            "3. Alterar notas\n",
            "4. Sair\n"
          ]
        }
      ]
    },
    {
      "cell_type": "code",
      "source": [
        "# 11. Função com Listas:\n",
        "# Escreva uma função que receba uma lista de números e retorne a soma de todos os\n",
        "# números pares dessa lista.\n",
        "\n",
        "lista_numerica = []\n",
        "\n",
        "def soma_dos_pares(lista_numerica):\n",
        "    soma = 0\n",
        "    for numero in lista_numerica:\n",
        "        if int(numero) % 2 == 0:\n",
        "           soma += int(numero)\n",
        "    return soma\n",
        "for item in range(10):\n",
        "    numero = input(\"Digite um número para lista :\")\n",
        "    lista_numerica.append(numero)\n",
        "\n",
        "soma_dos_pares = soma_dos_pares(lista_numerica)\n",
        "print(f\"A soma dos números pares na lista é: {soma_dos_pares}\")"
      ],
      "metadata": {
        "colab": {
          "base_uri": "https://localhost:8080/"
        },
        "id": "wWEZMMUAv8OT",
        "outputId": "5eb821f1-1351-410a-d89a-3501e0558310"
      },
      "execution_count": null,
      "outputs": [
        {
          "output_type": "stream",
          "name": "stdout",
          "text": [
            "Digite um número para lista :1\n",
            "Digite um número para lista :3\n",
            "Digite um número para lista :5\n",
            "Digite um número para lista :7\n",
            "Digite um número para lista :9\n",
            "Digite um número para lista :11\n",
            "Digite um número para lista :13\n",
            "Digite um número para lista :15\n",
            "Digite um número para lista :16\n",
            "Digite um número para lista :18\n",
            "A soma dos números pares na lista é: 34\n"
          ]
        }
      ]
    },
    {
      "cell_type": "code",
      "source": [
        "# 12. Função que Trabalha com Dicionários:\n",
        "# Escreva uma função que receba um dicionário contendo nomes de produtos como chaves e\n",
        "# seus preços como valores. A função deve retornar o nome do produto mais caro.\n",
        "\n",
        "loja = {\n",
        "    \"Bola\": 150.00,\n",
        "    \"Camisa\": 350.00,\n",
        "    \"Bermuda\": 120.00,\n",
        "    \"Meia\": 40.00,\n",
        "    \"Chuteira\": 420.00\n",
        "}\n",
        "def produto_mais_caro(loja):\n",
        "    produto_mais_caro = max(loja, key=loja.get)\n",
        "    return produto_mais_caro\n",
        "\n",
        "produto_mais_caro = produto_mais_caro(loja)\n",
        "print(f\"O produto mais caro é: {produto_mais_caro}.\")"
      ],
      "metadata": {
        "colab": {
          "base_uri": "https://localhost:8080/"
        },
        "id": "MmoBnROqzmH9",
        "outputId": "961f4498-e9ae-43da-bf17-8d9fca546fdc"
      },
      "execution_count": null,
      "outputs": [
        {
          "output_type": "stream",
          "name": "stdout",
          "text": [
            "O produto mais caro é: Meia.\n"
          ]
        }
      ]
    },
    {
      "cell_type": "code",
      "source": [
        "# 13. Função com Parâmetros Opcionais:\n",
        "# Crie uma função que recebe uma lista e um número opcional. Se o número for fornecido, a\n",
        "# função deve retornar a lista multiplicada por esse número. Se não for fornecido, a função deve\n",
        "# retornar a lista original.\n",
        "\n",
        "def multiplica_lista(lista, numero=None):\n",
        "  if numero is not None:\n",
        "    return [x * numero for x in lista]\n",
        "  else:\n",
        "    return lista\n",
        "\n",
        "minha_lista = [1, 2, 3, 4, 5]\n",
        "\n",
        "nova_lista = multiplica_lista(minha_lista)\n",
        "print(nova_lista)\n",
        "\n",
        "\n",
        "nova_lista = multiplica_lista(minha_lista, 4)\n",
        "print(nova_lista)"
      ],
      "metadata": {
        "colab": {
          "base_uri": "https://localhost:8080/"
        },
        "id": "zR7iH6hx5ExT",
        "outputId": "1c7e516e-81c7-4165-f07d-94dd2e1700e4"
      },
      "execution_count": null,
      "outputs": [
        {
          "output_type": "stream",
          "name": "stdout",
          "text": [
            "[1, 2, 3, 4, 5]\n",
            "[4, 8, 12, 16, 20]\n"
          ]
        }
      ]
    },
    {
      "cell_type": "code",
      "source": [
        "# 14. Função que Modifica Dicionários:\n",
        "# Escreva uma função que receba um dicionário representando um estoque de produtos\n",
        "# (chave: nome do produto, valor: quantidade em estoque) e um produto vendido (nome do\n",
        "# produto e quantidade vendida). A função deve atualizar o estoque conforme a venda e\n",
        "# informar se a quantidade vendida excede o estoque disponível.\n",
        "\n",
        "mercado = {\n",
        "    \"Sabonete\": 300,\n",
        "    \"Shamppo\": 120,\n",
        "    \"Desodorante\": 50,\n",
        "    \"Cotonete\": 175,\n",
        "    \"Pasta de dente\": 100\n",
        "}\n",
        "\n",
        "def atualizar_estoque(mercado, produto_vendido, quantidade_vendida):\n",
        "    if produto_vendido in mercado:\n",
        "        if quantidade_vendida <= mercado[produto_vendido]:\n",
        "           mercado[produto_vendido] -= quantidade_vendida\n",
        "           print(f\"Venda de {quantidade_vendida} unidades de {produto_vendido} realizada com sucesso.\")\n",
        "        else:\n",
        "           print((f\"Quantidade insuficiente em estoque para a venda de {quantidade_vendida} unidades de {produto_vendido}.\"))\n",
        "    else:\n",
        "        print(f\"Produto {produto_vendido} não encontrado no estoque.\")\n",
        "\n",
        "produto_vendido = input(\"Digite o produto que foi vendido: \")\n",
        "quantidade_vendida = int(input(\"Digite a quantidade vendida: \"))\n",
        "\n",
        "atualizar_estoque(mercado, produto_vendido, quantidade_vendida)\n",
        "print(mercado)\n",
        "\n"
      ],
      "metadata": {
        "colab": {
          "base_uri": "https://localhost:8080/"
        },
        "id": "GJO7Qw9iAo4q",
        "outputId": "9c7131b1-0b6f-491b-f4ce-fb0ef584d7d1"
      },
      "execution_count": null,
      "outputs": [
        {
          "output_type": "stream",
          "name": "stdout",
          "text": [
            "Digite o produto que foi vendido: Cotonete\n",
            "Digite a quantidade vendida: 176\n",
            "Quantidade insuficiente em estoque para a venda de 176 unidades de Cotonete.\n",
            "{'Sabonete': 300, 'Shamppo': 120, 'Desodorante': 50, 'Cotonete': 175, 'Pasta de dente': 100}\n"
          ]
        }
      ]
    },
    {
      "cell_type": "code",
      "source": [
        "# 15. Combinação de Listas, Dicionários e Funções:\n",
        "# Escreva uma função que recebe uma lista de dicionários, onde cada dicionário representa\n",
        "# um estudante com seu nome e uma lista de notas. A função deve calcular a média de cada\n",
        "# estudante e retornar um novo dicionário com os nomes dos estudantes como chaves e suas\n",
        "# médias como valores.\n",
        "\n",
        "def calcular_media_estudantes(lista_estudantes):\n",
        "\n",
        "  medias_estudantes = {}\n",
        "  for estudante in lista_estudantes:\n",
        "    nome = estudante['nome']\n",
        "    notas = estudante['notas']\n",
        "    media = sum(notas) / len(notas)\n",
        "    medias_estudantes[nome] = media\n",
        "  return medias_estudantes\n",
        "\n",
        "estudantes = [\n",
        "    {'nome': 'Jonatas', 'notas': [8, 9, 7, 10]},\n",
        "    {'nome': 'Brenno', 'notas': [6, 7, 8, 9]},\n",
        "    {'nome': 'Matheus', 'notas': [9, 10, 9, 8]}\n",
        "]\n",
        "\n",
        "medias = calcular_media_estudantes(estudantes)\n",
        "print(medias)\n",
        "\n",
        "\n",
        "\n"
      ],
      "metadata": {
        "colab": {
          "base_uri": "https://localhost:8080/"
        },
        "id": "ye3o1NrjFMCp",
        "outputId": "f075517f-4ca1-4a17-f86a-8a62829e2a8e"
      },
      "execution_count": null,
      "outputs": [
        {
          "output_type": "stream",
          "name": "stdout",
          "text": [
            "{'Jonatas': 8.5, 'Brenno': 7.5, 'Matheus': 9.0}\n"
          ]
        }
      ]
    },
    {
      "cell_type": "code",
      "source": [
        "# 16. Funções Recursivas:\n",
        "# Escreva uma função de busca binária recursiva\n",
        "\n",
        "def busca_binaria_recursiva(lista, alvo, esquerda, direita):\n",
        "  if esquerda > direita:\n",
        "    return -1  # Elemento não encontrado\n",
        "  meio = (esquerda + direita) // 2\n",
        "  if lista[meio] == alvo:\n",
        "    return meio  # Elemento encontrado\n",
        "  elif lista[meio] < alvo:\n",
        "    return busca_binaria_recursiva(lista, alvo, meio + 1, direita)  # Busca na metade direita\n",
        "  else:\n",
        "    return busca_binaria_recursiva(lista, alvo, esquerda, meio - 1)  # Busca na metade esquerda\n",
        "\n",
        "lista_ordenada = [2, 5, 7, 8, 11, 12]\n",
        "alvo = 11\n",
        "indice = busca_binaria_recursiva(lista_ordenada, alvo, 0, len(lista_ordenada) - 1)\n",
        "\n",
        "if indice != -1:\n",
        "  print(f\"Elemento {alvo} encontrado no índice {indice}.\")\n",
        "else:\n",
        "  print(f\"Elemento {alvo} não encontrado na lista.\")\n",
        "\n",
        "\n",
        "\n",
        "\n"
      ],
      "metadata": {
        "colab": {
          "base_uri": "https://localhost:8080/"
        },
        "id": "vlZJcHI_Q32u",
        "outputId": "828db6d0-fd59-4119-8579-95db53514dba"
      },
      "execution_count": null,
      "outputs": [
        {
          "output_type": "stream",
          "name": "stdout",
          "text": [
            "Elemento 11 encontrado no índice 4.\n"
          ]
        }
      ]
    },
    {
      "cell_type": "code",
      "source": [
        "# Tarefa de Implementação\n",
        "# Descrição do Sistema\n",
        "# O sistema de gerenciamento de estoque de livros permite que a biblioteca cadastre, atualize,\n",
        "# remova, e busque livros, bem como verifique a quantidade de exemplares disponíveis de cada\n",
        "# livro. Os livros serão armazenados em uma lista, onde cada elemento é um dicionário que\n",
        "# representa um livro com informações como título, autor, gênero, quantidade em estoque e\n",
        "# código do livro. O sistema usará diversas funções para manipular a lista de dicionários.\n",
        "\n",
        "estoque_de_livros = []\n",
        "\n",
        "def cadastrar_livro():\n",
        "  livro = {}\n",
        "  livro[\"titulo\"] = input(\"Digite o título do livro: \")\n",
        "  livro[\"autor\"] = input(\"Digite o autor do livro: \")\n",
        "  livro[\"genero\"] = input(\"Digite o gênero do livro: \")\n",
        "  livro[\"quantidade\"] = int(input(\"Digite a quantidade em estoque: \"))\n",
        "  livro[\"codigo\"] = input(\"Digite o código do livro: \")\n",
        "  estoque_de_livros.append(livro)\n",
        "  print(\"Livro cadastrado com sucesso!\")\n",
        "\n",
        "\n",
        "def buscar_livro():\n",
        "  codigo = input(\"Digite o código do livro que deseja buscar: \")\n",
        "  for livro in estoque_de_livros:\n",
        "    if livro[\"codigo\"] == codigo:\n",
        "      print(\"Livro encontrado:\")\n",
        "      print(livro)\n",
        "      return\n",
        "  print(\"Livro não encontrado.\")\n",
        "\n",
        "\n",
        "def atualizar_livro():\n",
        "  codigo = input(\"Digite o código do livro que deseja atualizar: \")\n",
        "  for livro in estoque_de_livros:\n",
        "    if livro[\"codigo\"] == codigo:\n",
        "      print(\"Livro encontrado. Quais dados deseja atualizar?\")\n",
        "      print(\"1. Título\")\n",
        "      print(\"2. Autor\")\n",
        "      print(\"3. Gênero\")\n",
        "      print(\"4. Quantidade\")\n",
        "      opcao = input(\"Digite o número da opção desejada: \")\n",
        "      if opcao == \"1\":\n",
        "        novo_titulo = input(\"Digite o novo título: \")\n",
        "        livro[\"titulo\"] = novo_titulo\n",
        "      elif opcao == \"2\":\n",
        "        novo_autor = input(\"Digite o novo autor: \")\n",
        "        livro[\"autor\"] = novo_autor\n",
        "      elif opcao == \"3\":\n",
        "        novo_genero = input(\"Digite o novo gênero: \")\n",
        "        livro[\"genero\"] = novo_genero\n",
        "      elif opcao == \"4\":\n",
        "        nova_quantidade = int(input(\"Digite a nova quantidade: \"))\n",
        "        livro[\"quantidade\"] = nova_quantidade\n",
        "      else:\n",
        "        print(\"Opção inválida.\")\n",
        "      print(\"Livro atualizado com sucesso!\")\n",
        "      return\n",
        "  print(\"Livro não encontrado.\")\n",
        "\n",
        "\n",
        "def remover_livro():\n",
        "  codigo = input(\"Digite o código do livro que deseja remover: \")\n",
        "  for livro in estoque_de_livros:\n",
        "    if livro[\"codigo\"] == codigo:\n",
        "      estoque_de_livros.remove(livro)\n",
        "      print(\"Livro removido com sucesso!\")\n",
        "      return\n",
        "  print(\"Livro não encontrado.\")\n",
        "\n",
        "\n",
        "def listar_livros():\n",
        "  if not estoque_de_livros:\n",
        "    print(\"O estoque está vazio.\")\n",
        "  else:\n",
        "    print(\"Lista de livros:\")\n",
        "    for livro in estoque_de_livros:\n",
        "      print(livro)\n",
        "\n",
        "\n",
        "while True:\n",
        "  print(\"\\nOpções:\")\n",
        "  print(\"1. Cadastrar livro\")\n",
        "  print(\"2. Buscar livro\")\n",
        "  print(\"3. Atualizar livro\")\n",
        "  print(\"4. Remover livro\")\n",
        "  print(\"5. Listar livros\")\n",
        "  print(\"6. Sair\")\n",
        "\n",
        "  opcao = input(\"Escolha uma opção: \")\n",
        "\n",
        "  if opcao == \"1\":\n",
        "    cadastrar_livro()\n",
        "  elif opcao == \"2\":\n",
        "    buscar_livro()\n",
        "  elif opcao == \"3\":\n",
        "    atualizar_livro()\n",
        "  elif opcao == \"4\":\n",
        "    remover_livro()\n",
        "  elif opcao == \"5\":\n",
        "    listar_livros()\n",
        "  elif opcao == \"6\":\n",
        "    break\n",
        "  else:\n",
        "    print(\"Opção inválida.\")\n",
        "\n",
        "print(\"Programa encerrado.\")\n",
        "\n",
        "\n"
      ],
      "metadata": {
        "id": "kXRiPtCGSj9M",
        "colab": {
          "base_uri": "https://localhost:8080/"
        },
        "outputId": "e5b248d7-ba4d-4885-925b-c94a8dde9368"
      },
      "execution_count": 26,
      "outputs": [
        {
          "output_type": "stream",
          "name": "stdout",
          "text": [
            "\n",
            "Opções:\n",
            "1. Cadastrar livro\n",
            "2. Buscar livro\n",
            "3. Atualizar livro\n",
            "4. Remover livro\n",
            "5. Listar livros\n",
            "6. Sair\n",
            "Escolha uma opção: 1\n",
            "Digite o título do livro: Biblia\n",
            "Digite o autor do livro: Deus\n",
            "Digite o gênero do livro: Religioso\n",
            "Digite a quantidade em estoque: 100\n",
            "Digite o código do livro: 3484\n",
            "Livro cadastrado com sucesso!\n",
            "\n",
            "Opções:\n",
            "1. Cadastrar livro\n",
            "2. Buscar livro\n",
            "3. Atualizar livro\n",
            "4. Remover livro\n",
            "5. Listar livros\n",
            "6. Sair\n",
            "Escolha uma opção: 2\n",
            "Digite o código do livro que deseja buscar: 3484\n",
            "Livro encontrado:\n",
            "{'titulo': 'Biblia', 'autor': 'Deus', 'genero': 'Religioso', 'quantidade': 100, 'codigo': '3484'}\n",
            "\n",
            "Opções:\n",
            "1. Cadastrar livro\n",
            "2. Buscar livro\n",
            "3. Atualizar livro\n",
            "4. Remover livro\n",
            "5. Listar livros\n",
            "6. Sair\n",
            "Escolha uma opção: 3\n",
            "Digite o código do livro que deseja atualizar: 3484\n",
            "Livro encontrado. Quais dados deseja atualizar?\n",
            "1. Título\n",
            "2. Autor\n",
            "3. Gênero\n",
            "4. Quantidade\n",
            "Digite o número da opção desejada: 4\n",
            "Digite a nova quantidade: 1000\n",
            "Livro atualizado com sucesso!\n",
            "\n",
            "Opções:\n",
            "1. Cadastrar livro\n",
            "2. Buscar livro\n",
            "3. Atualizar livro\n",
            "4. Remover livro\n",
            "5. Listar livros\n",
            "6. Sair\n",
            "Escolha uma opção: 1\n",
            "Digite o título do livro: Neemias\n",
            "Digite o autor do livro: Neemias\n",
            "Digite o gênero do livro: Religioso\n",
            "Digite a quantidade em estoque: 50\n",
            "Digite o código do livro: 3335\n",
            "Livro cadastrado com sucesso!\n",
            "\n",
            "Opções:\n",
            "1. Cadastrar livro\n",
            "2. Buscar livro\n",
            "3. Atualizar livro\n",
            "4. Remover livro\n",
            "5. Listar livros\n",
            "6. Sair\n",
            "Escolha uma opção: 5\n",
            "Lista de livros:\n",
            "{'titulo': 'Biblia', 'autor': 'Deus', 'genero': 'Religioso', 'quantidade': 1000, 'codigo': '3484'}\n",
            "{'titulo': 'Neemias', 'autor': 'Neemias', 'genero': 'Religioso', 'quantidade': 50, 'codigo': '3335'}\n",
            "\n",
            "Opções:\n",
            "1. Cadastrar livro\n",
            "2. Buscar livro\n",
            "3. Atualizar livro\n",
            "4. Remover livro\n",
            "5. Listar livros\n",
            "6. Sair\n",
            "Escolha uma opção: 4\n",
            "Digite o código do livro que deseja remover: 3335\n",
            "Livro removido com sucesso!\n",
            "\n",
            "Opções:\n",
            "1. Cadastrar livro\n",
            "2. Buscar livro\n",
            "3. Atualizar livro\n",
            "4. Remover livro\n",
            "5. Listar livros\n",
            "6. Sair\n",
            "Escolha uma opção: 5\n",
            "Lista de livros:\n",
            "{'titulo': 'Biblia', 'autor': 'Deus', 'genero': 'Religioso', 'quantidade': 1000, 'codigo': '3484'}\n",
            "\n",
            "Opções:\n",
            "1. Cadastrar livro\n",
            "2. Buscar livro\n",
            "3. Atualizar livro\n",
            "4. Remover livro\n",
            "5. Listar livros\n",
            "6. Sair\n",
            "Escolha uma opção: 6\n",
            "Programa encerrado.\n"
          ]
        }
      ]
    }
  ]
}