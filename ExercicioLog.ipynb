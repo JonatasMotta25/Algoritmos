{
  "nbformat": 4,
  "nbformat_minor": 0,
  "metadata": {
    "colab": {
      "provenance": [],
      "authorship_tag": "ABX9TyPFTzCOojGX5PWhnp83YUv2",
      "include_colab_link": true
    },
    "kernelspec": {
      "name": "python3",
      "display_name": "Python 3"
    },
    "language_info": {
      "name": "python"
    }
  },
  "cells": [
    {
      "cell_type": "markdown",
      "metadata": {
        "id": "view-in-github",
        "colab_type": "text"
      },
      "source": [
        "<a href=\"https://colab.research.google.com/github/JonatasMotta25/Algoritmos/blob/main/ExercicioLog.ipynb\" target=\"_parent\"><img src=\"https://colab.research.google.com/assets/colab-badge.svg\" alt=\"Open In Colab\"/></a>"
      ]
    },
    {
      "cell_type": "code",
      "execution_count": null,
      "metadata": {
        "id": "QDu_GECddK3S"
      },
      "outputs": [],
      "source": [
        "import datetime\n",
        "\n",
        "def registrar_evento():\n",
        "  descricao = input(\"Digite a descrição do evento: \")\n",
        "  data_hora = datetime.datetime.now().strftime(\"%Y-%m-%d %H:%M:%S\")\n",
        "  with open(\"sistema_log.txt\", \"a\") as arquivo:\n",
        "    arquivo.write(f\"{data_hora} - {descricao}\\n\")\n",
        "  print(\"Evento registrado com sucesso!\")\n",
        "\n",
        "def visualizar_eventos():\n",
        "  try:\n",
        "    with open(\"sistema_log.txt\", \"r\") as arquivo:\n",
        "      eventos = arquivo.readlines()\n",
        "      if eventos:\n",
        "        print(\"Eventos registrados:\")\n",
        "        for evento in eventos:\n",
        "          print(evento.strip())\n",
        "      else:\n",
        "        print(\"Nenhum evento registrado ainda.\")\n",
        "  except FileNotFoundError:\n",
        "    print(\"Arquivo de log não encontrado.\")\n",
        "\n",
        "while True:\n",
        "  print(\"\\nEscolha uma opção:\")\n",
        "  print(\"1. Registrar novo evento\")\n",
        "  print(\"2. Visualizar eventos\")\n",
        "  print(\"3. Sair\")\n",
        "\n",
        "  opcao = input(\"Opção: \")\n",
        "\n",
        "  if opcao == \"1\":\n",
        "    registrar_evento()\n",
        "  elif opcao == \"2\":\n",
        "    visualizar_eventos()\n",
        "  elif opcao == \"3\":\n",
        "    break\n",
        "  else:\n",
        "    print(\"Opção inválida.\")"
      ]
    }
  ]
}